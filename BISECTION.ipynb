{
  "nbformat": 4,
  "nbformat_minor": 0,
  "metadata": {
    "colab": {
      "provenance": [],
      "authorship_tag": "ABX9TyPjy0MWFn4Qa/gDxrZAO2b+",
      "include_colab_link": true
    },
    "kernelspec": {
      "name": "python3",
      "display_name": "Python 3"
    },
    "language_info": {
      "name": "python"
    }
  },
  "cells": [
    {
      "cell_type": "markdown",
      "metadata": {
        "id": "view-in-github",
        "colab_type": "text"
      },
      "source": [
        "<a href=\"https://colab.research.google.com/github/furqon-Sr/komputasi_numerik/blob/main/BISECTION.ipynb\" target=\"_parent\"><img src=\"https://colab.research.google.com/assets/colab-badge.svg\" alt=\"Open In Colab\"/></a>"
      ]
    },
    {
      "cell_type": "code",
      "execution_count": null,
      "metadata": {
        "id": "Y0X_omZwWuOP"
      },
      "outputs": [],
      "source": [
        "# Cell 1: Definisi Fungsi Bisection\n",
        "def bisection(f, a, b, tol):\n",
        "    if np.sign(f(a)) == np.sign(f(b)):\n",
        "        raise Exception(\"tidak bisa\")\n",
        "\n",
        "    m = (a + b) / 2\n",
        "\n",
        "    if np.abs(f(m)) < tol:\n",
        "        return m\n",
        "    elif np.sign(f(a)) == np.sign(f(m)):\n",
        "        return bisection(f, m, b, tol)\n",
        "    elif np.sign(f(b)) == np.sign(f(m)):\n",
        "        return bisection(f, a, m,"
      ]
    },
    {
      "cell_type": "markdown",
      "source": [
        "Cell 1: Mendefinisikan fungsi bisection untuk menemukan akar dari fungsi f."
      ],
      "metadata": {
        "id": "6aV2UeEzXVQ8"
      }
    },
    {
      "cell_type": "code",
      "source": [
        "# Cell 2: Mendefinisikan Fungsi\n",
        "f = lambda x: x**2 - 2"
      ],
      "metadata": {
        "id": "0AHZWl0vW2J_"
      },
      "execution_count": null,
      "outputs": []
    },
    {
      "cell_type": "markdown",
      "source": [
        "Cell 2: Mendefinisikan fungsi f(x) = x^2 - 2."
      ],
      "metadata": {
        "id": "m-v2ZEacXX5R"
      }
    },
    {
      "cell_type": "code",
      "source": [
        "# Cell 3: Mencari Akar Pertama\n",
        "r1 = bisection(f, 0, 2, 0.1)\n",
        "print(\"r1 =\", r1)"
      ],
      "metadata": {
        "id": "mf6d1U1xW5Rt"
      },
      "execution_count": null,
      "outputs": []
    },
    {
      "cell_type": "markdown",
      "source": [
        "Cell 3: Mencari akar pertama r1 dengan toleransi 0.1 dan mencetak hasilnya."
      ],
      "metadata": {
        "id": "bS-CQEB9XaI7"
      }
    },
    {
      "cell_type": "code",
      "source": [
        "# Cell 4: Mencari Akar Kedua dengan Toleransi Lebih Kecil\n",
        "r01 = bisection(f, 0, 2, 0.01)\n",
        "print(\"r01 =\", r01)"
      ],
      "metadata": {
        "id": "gcnoJSTlW8tD"
      },
      "execution_count": null,
      "outputs": []
    },
    {
      "cell_type": "markdown",
      "source": [
        "Cell 4: Mencari akar kedua r01 dengan toleransi lebih kecil 0.01 dan mencetak hasilnya."
      ],
      "metadata": {
        "id": "ZiW4mUrfXdhv"
      }
    },
    {
      "cell_type": "code",
      "source": [
        "# Cell 5: Mencetak Nilai Fungsi di Titik Akar yang Ditemukan\n",
        "print(\"f(r1) =\", f(r1))\n",
        "print(\"f(r01) =\", f(r01))"
      ],
      "metadata": {
        "colab": {
          "base_uri": "https://localhost:8080/"
        },
        "id": "R0txYLJpW_dG",
        "outputId": "95bfc2c2-75f1-4347-e7e6-1feecec0e399"
      },
      "execution_count": 7,
      "outputs": [
        {
          "output_type": "stream",
          "name": "stdout",
          "text": [
            "f(r1) = 0.06640625\n",
            "f(r01) = -0.00042724609375\n"
          ]
        }
      ]
    },
    {
      "cell_type": "markdown",
      "source": [
        "Cell 5: Mencetak nilai fungsi f di titik akar yang ditemukan (r1 dan r01)."
      ],
      "metadata": {
        "id": "IeIUXVf7Xe1I"
      }
    },
    {
      "cell_type": "code",
      "source": [
        "# Cell 6: Tambahan Fungsi untuk Menangani Kesalahan\n",
        "try:\n",
        "    r_invalid = bisection(f, 2, 3, 0.01)\n",
        "except Exception as e:\n",
        "    print(e)"
      ],
      "metadata": {
        "colab": {
          "base_uri": "https://localhost:8080/"
        },
        "id": "XeRE6oeVXCH6",
        "outputId": "79abcbed-3af6-4f35-c6e6-128fd2c5a16f"
      },
      "execution_count": 6,
      "outputs": [
        {
          "output_type": "stream",
          "name": "stdout",
          "text": [
            "tidak bisa\n"
          ]
        }
      ]
    },
    {
      "cell_type": "markdown",
      "source": [
        "Cell 6: Menambahkan penanganan kesalahan ketika interval tidak valid, seperti interval [2, 3], dan mencetak pesan kesalahan."
      ],
      "metadata": {
        "id": "Xh9DygD0XixK"
      }
    },
    {
      "cell_type": "code",
      "source": [
        "# Cell 7: Mengatur Rentang Baru dan Menampilkan Hasil\n",
        "a_new, b_new = 1, 3\n",
        "r_new = bisection(f, a_new, b_new, 0.01)\n",
        "print(\"Akar dalam rentang baru [1, 3] adalah\", r_new)"
      ],
      "metadata": {
        "colab": {
          "base_uri": "https://localhost:8080/"
        },
        "id": "u5oJY4iDXGJz",
        "outputId": "ee61d1fd-5428-49fd-80c8-2b62be62e980"
      },
      "execution_count": 4,
      "outputs": [
        {
          "output_type": "stream",
          "name": "stdout",
          "text": [
            "Akar dalam rentang baru [1, 3] adalah 1.4140625\n"
          ]
        }
      ]
    },
    {
      "cell_type": "markdown",
      "source": [
        "Cell 7: Mengatur rentang baru [1, 3] dan menemukan akar baru r_new, lalu mencetak hasilnya."
      ],
      "metadata": {
        "id": "u9W9_-VUXshw"
      }
    },
    {
      "cell_type": "markdown",
      "source": [],
      "metadata": {
        "id": "C2YqgxCFXmSV"
      }
    },
    {
      "cell_type": "code",
      "source": [
        "# Cell 8: Visualisasi Fungsi (opsional)\n",
        "import matplotlib.pyplot as plt\n",
        "\n",
        "x = np.linspace(0, 3, 400)\n",
        "y = f(x)\n",
        "plt.plot(x, y, label=\"f(x) = x^2 - 2\")\n",
        "plt.axhline(0, color='gray', linestyle='--')\n",
        "plt.axvline(r1, color='red', linestyle='--', label=f'r1 = {r1:.2f}')\n",
        "plt.axvline(r01, color='blue', linestyle='--', label=f'r01 = {r01:.2f}')\n",
        "plt.legend()\n",
        "plt.xlabel('x')\n",
        "plt.ylabel('f(x)')\n",
        "plt.title('Visualisasi Fungsi dan Akar-Akarnya')\n",
        "plt.grid(True)\n",
        "plt.show()"
      ],
      "metadata": {
        "id": "pO_PNvbZXF9K"
      },
      "execution_count": null,
      "outputs": []
    },
    {
      "cell_type": "markdown",
      "source": [
        "Cell 8: (Opsional) Menyertakan visualisasi fungsi f(x), menunjukkan akar-akarnya (r1 dan r01), menggunakan matplotlib."
      ],
      "metadata": {
        "id": "KxqpTKw1XxY5"
      }
    }
  ]
}