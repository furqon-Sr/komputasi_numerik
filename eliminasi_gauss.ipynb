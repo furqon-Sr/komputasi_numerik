{
  "nbformat": 4,
  "nbformat_minor": 0,
  "metadata": {
    "colab": {
      "provenance": [],
      "include_colab_link": true
    },
    "kernelspec": {
      "name": "python3",
      "display_name": "Python 3"
    },
    "language_info": {
      "name": "python"
    }
  },
  "cells": [
    {
      "cell_type": "markdown",
      "metadata": {
        "id": "view-in-github",
        "colab_type": "text"
      },
      "source": [
        "<a href=\"https://colab.research.google.com/github/furqon-Sr/komputasi_numerik/blob/main/eliminasi_gauss.ipynb\" target=\"_parent\"><img src=\"https://colab.research.google.com/assets/colab-badge.svg\" alt=\"Open In Colab\"/></a>"
      ]
    },
    {
      "cell_type": "code",
      "source": [],
      "metadata": {
        "id": "81f24lZ4MJyT"
      },
      "execution_count": null,
      "outputs": []
    },
    {
      "cell_type": "markdown",
      "source": [
        "Mengimpor pustaka NumPy dan memberi alias np. NumPy adalah pustaka penting dalam Python untuk komputasi ilmiah dan pemrosesan data."
      ],
      "metadata": {
        "id": "BMOcNzeqMKPu"
      }
    },
    {
      "cell_type": "code",
      "source": [
        "import numpy as np\n"
      ],
      "metadata": {
        "id": "7cxSOeEWL9Vi"
      },
      "execution_count": null,
      "outputs": []
    },
    {
      "cell_type": "markdown",
      "source": [
        "Mendefinisikan sebuah array NumPy yang bernama SPL. Array ini merepresentasikan sistem persamaan linear dalam bentuk matriks, dengan tiga baris dan empat kolom."
      ],
      "metadata": {
        "id": "p128Hes0MXQH"
      }
    },
    {
      "cell_type": "code",
      "execution_count": 2,
      "metadata": {
        "colab": {
          "base_uri": "https://localhost:8080/"
        },
        "id": "C3aJpOzwRswY",
        "outputId": "e75cad23-d877-453c-d949-521d65811df7"
      },
      "outputs": [
        {
          "output_type": "stream",
          "name": "stdout",
          "text": [
            "Sistem Persamaan Linear matriks adalah: [[ 2  3 -1  5]\n",
            " [ 4  4 -3  3]\n",
            " [-2  3 -1  1]]\n",
            "0\n",
            "-2\n",
            "-1\n",
            "-7\n"
          ]
        }
      ],
      "source": [
        "SPL = np.array([[2, 3, -1, 5], [4, 4, -3, 3], [-2, 3, -1, 1]])\n"
      ]
    },
    {
      "cell_type": "markdown",
      "source": [
        "Mencetak array SPL ke layar, sehingga kita bisa melihat bentuk dari sistem persamaan linear yang sedang kita kerjakan."
      ],
      "metadata": {
        "id": "95ANqaypMwJj"
      }
    },
    {
      "cell_type": "code",
      "source": [
        "print(\"Sistem Persamaan Linear matriks adalah:\", SPL)\n"
      ],
      "metadata": {
        "colab": {
          "base_uri": "https://localhost:8080/"
        },
        "id": "js9lGSow2LIs",
        "outputId": "e423d30e-a079-494d-c7e7-ecb4c2d2ccae"
      },
      "execution_count": null,
      "outputs": [
        {
          "output_type": "stream",
          "name": "stdout",
          "text": [
            "Sistem Persamaan Linear matriks adalah  [[2, 3, -1, 5], [4, 4, -3, 3], [-2, 3, -1, 1]]\n"
          ]
        },
        {
          "output_type": "execute_result",
          "data": {
            "text/plain": [
              "[[2, 3, -1, 5], [0, -2, -1, -7], [0, 0, -5, -15]]"
            ]
          },
          "metadata": {},
          "execution_count": 31
        }
      ]
    },
    {
      "cell_type": "markdown",
      "source": [
        "Loop for: Iterasi melalui empat kolom dari matriks (indeks 0 hingga 3).\n",
        "\n",
        "Operasi pada elemen baris kedua: Untuk setiap kolom i pada baris kedua (SPL[1, i]), kurangi nilai 2 * SPL[0, i] dari elemen tersebut.\n",
        "\n",
        "Tujuan: Mengubah elemen-elemen pada baris kedua berdasarkan nilai pada baris pertama. Operasi ini sering digunakan dalam metode eliminasi Gauss untuk menyederhanakan sistem persamaan linear."
      ],
      "metadata": {
        "id": "MdO1MteSM4yu"
      }
    },
    {
      "cell_type": "markdown",
      "source": [
        "Mencetak masing-masing elemen dari baris kedua (indeks 1) dari matriks SPL setelah operasi telah dilakukan, sehingga kita bisa melihat hasil dari operasi yang telah kita lakukan."
      ],
      "metadata": {
        "id": "y2_s06X0NBMc"
      }
    },
    {
      "cell_type": "code",
      "source": [
        "print(SPL[1, 0])\n",
        "print(SPL[1, 1])\n",
        "print(SPL[1, 2])\n",
        "print(SPL[1, 3])\n"
      ],
      "metadata": {
        "colab": {
          "base_uri": "https://localhost:8080/"
        },
        "id": "ciwrHKDW745H",
        "outputId": "12a67de2-61ba-4d4f-d115-59e55bcaba40"
      },
      "execution_count": null,
      "outputs": [
        {
          "output_type": "execute_result",
          "data": {
            "text/plain": [
              "0"
            ]
          },
          "metadata": {},
          "execution_count": 15
        }
      ]
    },
    {
      "cell_type": "markdown",
      "source": [
        "Baris-baris ini dikomentari dan tidak akan dieksekusi. Baris-baris ini awalnya melakukan operasi pada baris kedua (index 1) dari matriks SPL."
      ],
      "metadata": {
        "id": "Z-4A01UINJJT"
      }
    },
    {
      "cell_type": "code",
      "source": [
        "#SPL[1][0] = SPL[1][0] - (2*SPL[0][0])\n",
        "#SPL[1][1] = SPL[1][1] - (2*SPL[0][1])\n",
        "#SPL[1][2] = SPL[1][2] - (2*SPL[0][2])\n",
        "#SPL[1][3] = SPL[1][3] - (2*SPL[0][3])\n"
      ],
      "metadata": {
        "colab": {
          "base_uri": "https://localhost:8080/"
        },
        "id": "mAInAe368reO",
        "outputId": "d3265148-0fa4-4138-b2ec-902a712858ae"
      },
      "execution_count": null,
      "outputs": [
        {
          "output_type": "execute_result",
          "data": {
            "text/plain": [
              "0"
            ]
          },
          "metadata": {},
          "execution_count": 16
        }
      ]
    },
    {
      "cell_type": "markdown",
      "source": [
        "Iterasi melalui empat kolom dari matriks (dengan indeks 0 hingga 3). Untuk setiap kolom i pada baris kedua (SPL[1][i]), kurangi nilai 2 * SPL[0][i] dari elemen tersebut. Ini menyederhanakan elemen-elemen pada baris kedua berdasarkan nilai pada baris pertama."
      ],
      "metadata": {
        "id": "80taV00uNP9K"
      }
    },
    {
      "cell_type": "code",
      "source": [
        "for i in range(4):\n",
        "    SPL[1][i] = SPL[1][i] - (2*SPL[0][i])\n"
      ],
      "metadata": {
        "id": "oBvcs1KpNKgi"
      },
      "execution_count": null,
      "outputs": []
    },
    {
      "cell_type": "markdown",
      "source": [
        "Iterasi melalui empat kolom dari matriks. Untuk setiap kolom i pada baris ketiga (SPL[2][i]), kurangi nilai -1 * SPL[0][i] dari elemen tersebut. Ini menyederhanakan elemen-elemen pada baris ketiga berdasarkan nilai pada baris pertama."
      ],
      "metadata": {
        "id": "h-NdvAaJNY7q"
      }
    },
    {
      "cell_type": "code",
      "source": [
        "for i in range(4):\n",
        "    SPL[2][i] = SPL[2][i] - (-1*SPL[0][i])\n"
      ],
      "metadata": {
        "id": "kQuCvaHNNSWP"
      },
      "execution_count": null,
      "outputs": []
    },
    {
      "cell_type": "markdown",
      "source": [
        "Iterasi melalui tiga kolom pertama dari matriks (dengan indeks 0 hingga 2). Untuk setiap kolom i+1 pada baris ketiga (SPL[2][i+1]), kurangi nilai -3 * SPL[1][i+1] dari elemen tersebut. Ini menyederhanakan elemen-elemen pada baris ketiga berdasarkan nilai pada baris kedua."
      ],
      "metadata": {
        "id": "XJHl1AeQNgP3"
      }
    },
    {
      "cell_type": "code",
      "source": [
        "for i in range(3):\n",
        "    SPL[2][i+1] = SPL[2][i+1] - (-3*SPL[1][i+1])\n"
      ],
      "metadata": {
        "id": "bWJnr9-YNb0M"
      },
      "execution_count": null,
      "outputs": []
    },
    {
      "cell_type": "markdown",
      "source": [
        "SPL[1]: Mengakses baris kedua dari matriks SPL (dengan indeks 1, karena indeks dimulai dari 0), yaitu [4, 4, -3, 3].\n",
        "\n",
        "SPL[1][1]: Mengakses elemen kedua (kolom kedua) dari baris kedua, yaitu 4."
      ],
      "metadata": {
        "id": "7haoSvjENsY6"
      }
    },
    {
      "cell_type": "code",
      "source": [
        "SPL = [[2, 3, -1, 5],\n",
        "       [4, 4, -3, 3],\n",
        "       [-2, 3, -1, 1]]\n"
      ],
      "metadata": {
        "id": "-J8f_ReRNjnT"
      },
      "execution_count": null,
      "outputs": []
    }
  ]
}