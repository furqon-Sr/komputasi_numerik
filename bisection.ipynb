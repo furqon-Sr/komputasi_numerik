{
  "nbformat": 4,
  "nbformat_minor": 0,
  "metadata": {
    "colab": {
      "provenance": [],
      "include_colab_link": true
    },
    "kernelspec": {
      "name": "python3",
      "display_name": "Python 3"
    },
    "language_info": {
      "name": "python"
    }
  },
  "cells": [
    {
      "cell_type": "markdown",
      "metadata": {
        "id": "view-in-github",
        "colab_type": "text"
      },
      "source": [
        "<a href=\"https://colab.research.google.com/github/furqon-Sr/komputasi_numerik/blob/main/bisection.ipynb\" target=\"_parent\"><img src=\"https://colab.research.google.com/assets/colab-badge.svg\" alt=\"Open In Colab\"/></a>"
      ]
    },
    {
      "cell_type": "markdown",
      "source": [
        "Kode import numpy as np digunakan untuk mengimpor pustaka NumPy ke dalam program Python kamu dan memberinya alias np."
      ],
      "metadata": {
        "id": "jM_KGQrZAwY5"
      }
    },
    {
      "cell_type": "code",
      "execution_count": null,
      "metadata": {
        "id": "2JHVHadOtZcL"
      },
      "outputs": [],
      "source": [
        "import numpy as np"
      ]
    },
    {
      "cell_type": "markdown",
      "source": [
        "Header Fungsi:\n",
        "\n",
        "python\n",
        "def bisection(f, a, b, tol):\n",
        "Fungsi ini menerima empat argumen:\n",
        "\n",
        "f: Fungsi yang akar-akar persamaannya akan dicari.\n",
        "\n",
        "a: Batas bawah dari interval.\n",
        "\n",
        "b: Batas atas dari interval.\n",
        "\n",
        "tol: Toleransi kesalahan.\n",
        "\n",
        "Pengecekan Awal:\n",
        "\n",
        "python\n",
        "if np.sign(f(a)) == np.sign(f(b)):\n",
        "    raise Exception(\"tidak bisa\")\n",
        "Mengecek apakah tanda nilai fungsi\n",
        "𝑓\n",
        " pada a dan b sama. Jika sama, maka fungsi tersebut tidak bisa diproses dengan metode bisection karena tidak ada akar dalam interval tersebut (atau ada lebih dari satu akar).\n",
        "\n",
        "Menentukan Titik Tengah:\n",
        "\n",
        "python\n",
        "m = (a + b)/2\n",
        "Menghitung titik tengah\n",
        "𝑚\n",
        " dari interval\n",
        "[\n",
        "𝑎\n",
        ",\n",
        "𝑏\n",
        "]\n",
        ".\n",
        "\n",
        "Pengecekan Kondisi Berhenti:\n",
        "\n",
        "python\n",
        "if np.abs(f(m)) < tol:\n",
        "    return m\n",
        "Jika nilai fungsi\n",
        "𝑓\n",
        " pada\n",
        "𝑚\n",
        " sudah mendekati nol dengan toleransi\n",
        "tol\n",
        ", maka\n",
        "𝑚\n",
        " dianggap sebagai akar dan dikembalikan sebagai hasil.\n",
        "\n",
        "Pembagian Interval:\n",
        "\n",
        "python\n",
        "elif np.sign(f(a)) == np.sign(f(m)):\n",
        "    return bisection(f, m, b, tol)\n",
        "elif np.sign(f(b)) == np.sign(f(m)):\n",
        "    return bisection(f, a, m, tol)\n",
        "Jika tanda nilai fungsi\n",
        "𝑓\n",
        " pada\n",
        "𝑎\n",
        " sama dengan tanda nilai fungsi\n",
        "𝑓\n",
        " pada\n",
        "𝑚\n",
        ", maka akar ada di interval\n",
        "[\n",
        "𝑚\n",
        ",\n",
        "𝑏\n",
        "]\n",
        " dan dilakukan rekursi pada interval tersebut.\n",
        "\n"
      ],
      "metadata": {
        "id": "AStqjOuuA7bq"
      }
    },
    {
      "cell_type": "code",
      "source": [
        "def bisection(f, a, b, tol):\n",
        "\n",
        "    if np.sign(f(a)) == np.sign(f(b)):\n",
        "        raise Exception(\n",
        "         \"tidak bisa\")\n",
        "\n",
        "    m = (a + b)/2\n",
        "\n",
        "    if np.abs(f(m)) < tol:\n",
        "        return m\n",
        "    elif np.sign(f(a)) == np.sign(f(m)):\n",
        "        return bisection(f, m, b, tol)\n",
        "    elif np.sign(f(b)) == np.sign(f(m)):\n",
        "        return bisection(f, a, m, tol)"
      ],
      "metadata": {
        "id": "5_LhaSoZurtu"
      },
      "execution_count": null,
      "outputs": []
    },
    {
      "cell_type": "markdown",
      "source": [
        "Definisi Fungsi Lambda:\n",
        "\n",
        "python\n",
        "f = lambda x: x**2 - 2\n",
        "Ini mendefinisikan fungsi lambda f yang menerima satu argumen x dan mengembalikan hasil dari\n",
        "𝑥\n",
        "2\n",
        "−\n",
        "2\n",
        ". Dalam hal ini, kamu mencari akar dari persamaan\n",
        "𝑥\n",
        "2\n",
        "−\n",
        "2\n",
        "=\n",
        "0\n",
        ", yaitu\n",
        "𝑥\n",
        "=\n",
        "2\n",
        " atau\n",
        "𝑥\n",
        "=\n",
        "−\n",
        "2\n",
        ".\n",
        "\n",
        "Memanggil Fungsi Bisection:\n",
        "\n",
        "python\n",
        "r1 = my_bisection(f, 0, 2, 0.1)\n",
        "print(\"r1 =\", r1)\n",
        "r01 = my_bisection(f, 0, 2, 0.01)\n",
        "print(\"r01 =\", r01)\n",
        "r1 = my_bisection(f, 0, 2, 0.1) memanggil fungsi my_bisection (yang diasumsikan sebagai fungsi bisection seperti yang kamu bagikan sebelumnya) dengan fungsi f, interval\n",
        "[\n",
        "0\n",
        ",\n",
        "2\n",
        "]\n",
        ", dan toleransi\n",
        "0.1\n",
        ". Hasil dari fungsi ini disimpan dalam variabel r1.\n",
        "\n",
        "r01 = my_bisection(f, 0, 2, 0.01) memanggil fungsi my_bisection dengan parameter yang sama tetapi dengan toleransi\n",
        "0.01\n",
        ". Hasilnya disimpan dalam variabel r01.\n",
        "\n",
        "Mencetak Hasil:\n",
        "\n",
        "python\n",
        "print(\"f(r1) =\", f(r1))\n",
        "print(\"f(r01) =\", f(r01))\n",
        "print(\"f(r1) =\", f(r1)) mencetak nilai fungsi f pada r1. Ini digunakan untuk memverifikasi seberapa dekat hasil r1 dengan akar yang sebenarnya.\n",
        "\n",
        "print(\"f(r01) =\", f(r01)) mencetak nilai fungsi f pada r01. Hal ini dilakukan untuk memeriksa akurasi hasil r01."
      ],
      "metadata": {
        "id": "zq_ZKSl4BKNi"
      }
    },
    {
      "cell_type": "code",
      "source": [
        "f = lambda x: x**2 - 2\n",
        "\n",
        "r1 = my_bisection(f, 0, 2, 0.1)\n",
        "print(\"r1 =\", r1)\n",
        "r01 = my_bisection(f, 0, 2, 0.01)\n",
        "print(\"r01 =\", r01)\n",
        "\n",
        "print(\"f(r1) =\", f(r1))\n",
        "print(\"f(r01) =\", f(r01))"
      ],
      "metadata": {
        "id": "ncQT2IKYvNBk"
      },
      "execution_count": null,
      "outputs": []
    }
  ]
}