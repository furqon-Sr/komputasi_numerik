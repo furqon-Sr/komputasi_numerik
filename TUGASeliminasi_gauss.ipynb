{
  "nbformat": 4,
  "nbformat_minor": 0,
  "metadata": {
    "colab": {
      "provenance": [],
      "include_colab_link": true
    },
    "kernelspec": {
      "name": "python3",
      "display_name": "Python 3"
    },
    "language_info": {
      "name": "python"
    }
  },
  "cells": [
    {
      "cell_type": "markdown",
      "metadata": {
        "id": "view-in-github",
        "colab_type": "text"
      },
      "source": [
        "<a href=\"https://colab.research.google.com/github/furqon-Sr/komputasi_numerik/blob/main/TUGASeliminasi_gauss.ipynb\" target=\"_parent\"><img src=\"https://colab.research.google.com/assets/colab-badge.svg\" alt=\"Open In Colab\"/></a>"
      ]
    },
    {
      "cell_type": "markdown",
      "source": [
        "Mengimpor pustaka NumPy dan memberi alias np. NumPy adalah pustaka penting dalam Python untuk komputasi ilmiah dan pemrosesan data."
      ],
      "metadata": {
        "id": "BMOcNzeqMKPu"
      }
    },
    {
      "cell_type": "code",
      "source": [
        "import numpy as np\n"
      ],
      "metadata": {
        "id": "7cxSOeEWL9Vi"
      },
      "execution_count": null,
      "outputs": []
    },
    {
      "cell_type": "markdown",
      "source": [
        "Mendefinisikan matriks SPL menggunakan numpy dan mencetaknya."
      ],
      "metadata": {
        "id": "p128Hes0MXQH"
      }
    },
    {
      "cell_type": "code",
      "execution_count": 5,
      "metadata": {
        "colab": {
          "base_uri": "https://localhost:8080/"
        },
        "id": "C3aJpOzwRswY",
        "outputId": "e5eb43e6-d0fe-40dd-ae2b-8e844bcf02ef"
      },
      "outputs": [
        {
          "output_type": "stream",
          "name": "stdout",
          "text": [
            "Sistem Persamaan Linear matriks adalah \n"
          ]
        }
      ],
      "source": [
        "# Cell 1: Mendefinisikan Matriks\n",
        "SPL = np.array([[2, 3, -1, 5], [4, 4, -3, 3], [-2, 3, -1, 1]])  # Ini matriksnya\n",
        "print(\"Sistem Persamaan Linear matriks adalah \")"
      ]
    },
    {
      "cell_type": "markdown",
      "source": [
        "Mengubah baris kedua dengan mengurangi 2 kali baris pertama menggunakan operasi numpy."
      ],
      "metadata": {
        "id": "95ANqaypMwJj"
      }
    },
    {
      "cell_type": "code",
      "source": [
        "# Cell 2: Mengubah Baris 1\n",
        "SPL[1] = SPL[1] - (2 * SPL[0])"
      ],
      "metadata": {
        "colab": {
          "base_uri": "https://localhost:8080/"
        },
        "id": "js9lGSow2LIs",
        "outputId": "e423d30e-a079-494d-c7e7-ecb4c2d2ccae"
      },
      "execution_count": null,
      "outputs": [
        {
          "output_type": "stream",
          "name": "stdout",
          "text": [
            "Sistem Persamaan Linear matriks adalah  [[2, 3, -1, 5], [4, 4, -3, 3], [-2, 3, -1, 1]]\n"
          ]
        },
        {
          "output_type": "execute_result",
          "data": {
            "text/plain": [
              "[[2, 3, -1, 5], [0, -2, -1, -7], [0, 0, -5, -15]]"
            ]
          },
          "metadata": {},
          "execution_count": 31
        }
      ]
    },
    {
      "cell_type": "markdown",
      "source": [
        "Mengubah baris ketiga dengan mengurangi -1 kali baris pertama menggunakan numpy"
      ],
      "metadata": {
        "id": "y2_s06X0NBMc"
      }
    },
    {
      "cell_type": "code",
      "source": [
        "# Cell 3: Mengubah Baris 2\n",
        "SPL[2] = SPL[2] - (-1 * SPL[0])"
      ],
      "metadata": {
        "colab": {
          "base_uri": "https://localhost:8080/"
        },
        "id": "ciwrHKDW745H",
        "outputId": "12a67de2-61ba-4d4f-d115-59e55bcaba40"
      },
      "execution_count": null,
      "outputs": [
        {
          "output_type": "execute_result",
          "data": {
            "text/plain": [
              "0"
            ]
          },
          "metadata": {},
          "execution_count": 15
        }
      ]
    },
    {
      "cell_type": "markdown",
      "source": [
        "Mengubah lebih lanjut elemen-elemen baris ketiga dengan mengurangi -3 kali"
      ],
      "metadata": {
        "id": "Z-4A01UINJJT"
      }
    },
    {
      "cell_type": "code",
      "source": [
        "# Cell 4: Mengubah Lebih Lanjut Baris 2\n",
        "SPL[2, 1:] = SPL[2, 1:] - (-3 * SPL[1, 1])"
      ],
      "metadata": {
        "colab": {
          "base_uri": "https://localhost:8080/"
        },
        "id": "mAInAe368reO",
        "outputId": "d3265148-0fa4-4138-b2ec-902a712858ae"
      },
      "execution_count": null,
      "outputs": [
        {
          "output_type": "execute_result",
          "data": {
            "text/plain": [
              "0"
            ]
          },
          "metadata": {},
          "execution_count": 16
        }
      ]
    },
    {
      "cell_type": "markdown",
      "source": [
        "Mencetak matriks yang telah dimodifikasi setelah semua operasi."
      ],
      "metadata": {
        "id": "80taV00uNP9K"
      }
    },
    {
      "cell_type": "code",
      "source": [
        "# Cell 5: Mencetak Matriks yang Telah Dimodifikasi\n",
        "print(\"Sistem Persamaan Linear setelah operasi adalah \", SPL)"
      ],
      "metadata": {
        "id": "oBvcs1KpNKgi"
      },
      "execution_count": null,
      "outputs": []
    },
    {
      "cell_type": "markdown",
      "source": [
        "Mencetak elemen spesifik SPL[1][1] untuk verifikasi"
      ],
      "metadata": {
        "id": "h-NdvAaJNY7q"
      }
    },
    {
      "cell_type": "code",
      "source": [
        "# Cell 6: Mencetak Elemen Spesifik (SPL[1][1])\n",
        "print(\"Elemen SPL[1][1] adalah\", SPL[1][1])"
      ],
      "metadata": {
        "id": "kQuCvaHNNSWP"
      },
      "execution_count": null,
      "outputs": []
    },
    {
      "cell_type": "markdown",
      "source": [
        "Menghitung dan mencetak determinan dari sub-matriks 3x3 menggunakan numpy"
      ],
      "metadata": {
        "id": "XJHl1AeQNgP3"
      }
    },
    {
      "cell_type": "code",
      "source": [
        "# Cell 7: Menghitung dan Mencetak Determinan (opsional)\n",
        "det = np.linalg.det(SPL[:, :-1])  # Menghitung determinan dari sub-matriks 3x3\n",
        "print(\"Determinan dari matriks adalah\", SPL[1][1])"
      ],
      "metadata": {
        "id": "bWJnr9-YNb0M"
      },
      "execution_count": null,
      "outputs": []
    },
    {
      "cell_type": "markdown",
      "source": [
        "Menambah baris baru [1, 0, 0, 0] ke matriks dan mencetak matriks yang telah diperbarui menggunakan numpy."
      ],
      "metadata": {
        "id": "7haoSvjENsY6"
      }
    },
    {
      "cell_type": "code",
      "source": [
        "# Cell 8: Menambah dan Mencetak Baris Baru ke Matriks\n",
        "SPL = np.vstack([SPL, [1, 0, 0, 0]])  # Menambahkan baris baru ke matriks\n",
        "print(\"Matriks setelah menambahkan baris baru adalah\", SPL)"
      ],
      "metadata": {
        "id": "-J8f_ReRNjnT"
      },
      "execution_count": null,
      "outputs": []
    },
    {
      "cell_type": "markdown",
      "source": [
        "Mengalikan seluruh matriks dengan faktor skala 2 dan mencetak matriks yang dimodifikasi menggunakan numpy."
      ],
      "metadata": {
        "id": "XyXgU3JwVJN_"
      }
    },
    {
      "cell_type": "code",
      "source": [
        "\n",
        "# Cell 9: Mengalikan dan Mencetak Matriks yang Telah Dimodifikasi (opsional)\n",
        "scale_factor = 2\n",
        "SPL = SPL * scale_factor\n",
        "print(\"Matriks setelah skala dengan faktor\", scale_factor, \"adalah\", SPL)"
      ],
      "metadata": {
        "id": "r7tMT5fFVD2J"
      },
      "execution_count": null,
      "outputs": []
    }
  ]
}